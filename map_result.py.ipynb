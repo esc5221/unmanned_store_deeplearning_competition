{
 "cells": [
  {
   "cell_type": "code",
   "execution_count": 18,
   "id": "f710f9fe",
   "metadata": {},
   "outputs": [
    {
     "ename": "ModuleNotFoundError",
     "evalue": "No module named 'gspread'",
     "output_type": "error",
     "traceback": [
      "\u001b[0;31m---------------------------------------------------------------------------\u001b[0m",
      "\u001b[0;31mModuleNotFoundError\u001b[0m                       Traceback (most recent call last)",
      "\u001b[0;32m/tmp/ipykernel_7532/258148984.py\u001b[0m in \u001b[0;36m<module>\u001b[0;34m\u001b[0m\n\u001b[1;32m      1\u001b[0m \u001b[0;32mimport\u001b[0m \u001b[0mos\u001b[0m\u001b[0;34m\u001b[0m\u001b[0;34m\u001b[0m\u001b[0m\n\u001b[1;32m      2\u001b[0m \u001b[0;32mimport\u001b[0m \u001b[0msys\u001b[0m\u001b[0;34m\u001b[0m\u001b[0;34m\u001b[0m\u001b[0m\n\u001b[0;32m----> 3\u001b[0;31m \u001b[0;32mimport\u001b[0m \u001b[0mgspread\u001b[0m\u001b[0;34m\u001b[0m\u001b[0;34m\u001b[0m\u001b[0m\n\u001b[0m\u001b[1;32m      4\u001b[0m \u001b[0;34m\u001b[0m\u001b[0m\n\u001b[1;32m      5\u001b[0m \u001b[0;32mdef\u001b[0m \u001b[0mwrite\u001b[0m\u001b[0;34m(\u001b[0m\u001b[0mtp_list\u001b[0m\u001b[0;34m)\u001b[0m\u001b[0;34m:\u001b[0m\u001b[0;34m\u001b[0m\u001b[0;34m\u001b[0m\u001b[0m\n",
      "\u001b[0;31mModuleNotFoundError\u001b[0m: No module named 'gspread'"
     ]
    }
   ],
   "source": [
    "import os\n",
    "import sys\n",
    "import gspread\n",
    "\n",
    "def write(tp_list):\n",
    "    gc = gspread.service_account(filename=\"gs_api.json\")\n",
    "    sh = gc.open(\"분석\").worksheet(\"from_server\")\n",
    "    r=1\n",
    "    c=1\n",
    "    for tp in tp_list:\n",
    "        sheet1.update_cell(r, c, str(tp[0]))\n",
    "        sheet1.update_cell(r, c+1, str(tp[1]))\n",
    "        r=r+1\n",
    "\n",
    "\n",
    "ver = input(\"\"\"version (3 or 4) : \"\"\")\n",
    "isTiny = input(\"\"\"is tiny? (y or n) : \"\"\")\n",
    "try: \n",
    "    if (ver==\"3\" or ver==\"4\") and (isTiny == \"y\" or isTiny == \"n\"):\n",
    "        pass\n",
    "    else: \n",
    "        raise\n",
    "    \n",
    "    os.system(\"ls v4-tiny_darknet/backup/ > map_temp.txt\") \n",
    "    f = open(\"map_temp.txt\", \"r\")\n",
    "    text = f.readlines()\n",
    "    tp_text = []\n",
    "    for line in text:\n",
    "        try: \n",
    "            line = ( int(line.split(\"_\")[1].split(\".\")[0]), line.rstrip(\"\\n\"))\n",
    "            tp_text.append(line)\n",
    "        except:\n",
    "            continue\n",
    "    \n",
    "    tp_text.sort(key=lambda x: x[0])\n",
    "    for l in tp_text:\n",
    "        print(l)\n",
    "    \n",
    "    if ver==\"3\" and isTiny==\"y\": a = \"3-tiny.cfg\"\n",
    "    elif ver==\"3\" and isTiny==\"n\": a = \"3.cfg\"\n",
    "    elif ver==\"4\" and isTiny==\"y\": a = \"4-tiny-custom.cfg\"\n",
    "    elif ver==\"4\" and isTiny==\"n\": a = \"4-custom.cfg\"\n",
    "    \n",
    "    cmd_1 = \"./darknet detector map yolov\" + ver + \".data cfg/yolov\" + a + \" backup/\"\n",
    "    \n",
    "    q = 0\n",
    "    os.system(\"rm map_temp.txt\")\n",
    "    for tp in tp_text:\n",
    "        cmd = cmd_1 + tp[1]\n",
    "        print(cmd)\n",
    "        q = q+1\n",
    "        os.system(\"echo 0.95\"+str(q)+\" >> map_temp.txt\") \n",
    "        #os.system(\"cmd\" + \" | grep mAP@ > map_temp.txt -a\") \n",
    "    \n",
    "    tp_res = []\n",
    "    f = open(\"map_temp.txt\", \"r\")\n",
    "    text = f.readlines()\n",
    "    i=0\n",
    "    for line in text:\n",
    "        t1 = tp_text[i]\n",
    "        t2 = line.split(\"= \")[1].split(\",\")[0]\n",
    "        tp_res.append((t1,t2))\n",
    "        i = i+1\n",
    "    \n",
    "    #\"./darknet detector map yolov4.data cfg/yolov4-custom.cfg backup/yolov4-custom_10000.weight\"\n",
    "        \n",
    "    \n",
    "except Exception as e:\n",
    "    print(\"wrong : \", e)\n",
    "    \n",
    "print(\"end of program\")\n",
    "\n"
   ]
  },
  {
   "cell_type": "code",
   "execution_count": 17,
   "id": "869b4cff",
   "metadata": {},
   "outputs": [
    {
     "name": "stdout",
     "output_type": "stream",
     "text": [
      "0.970368\n"
     ]
    }
   ],
   "source": [
    "st = \"mean average precision (mAP@0.50) = 0.970368, or 97.04 %\"\n",
    "print(st.split(\"= \")[1].split(\",\")[0])"
   ]
  },
  {
   "cell_type": "code",
   "execution_count": null,
   "id": "2f03f27e",
   "metadata": {},
   "outputs": [],
   "source": []
  }
 ],
 "metadata": {
  "kernelspec": {
   "display_name": "Python 3 (ipykernel)",
   "language": "python",
   "name": "python3"
  },
  "language_info": {
   "codemirror_mode": {
    "name": "ipython",
    "version": 3
   },
   "file_extension": ".py",
   "mimetype": "text/x-python",
   "name": "python",
   "nbconvert_exporter": "python",
   "pygments_lexer": "ipython3",
   "version": "3.8.8"
  }
 },
 "nbformat": 4,
 "nbformat_minor": 5
}
