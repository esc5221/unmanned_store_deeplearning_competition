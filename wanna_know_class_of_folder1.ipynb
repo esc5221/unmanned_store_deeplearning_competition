{
 "cells": [
  {
   "cell_type": "code",
   "execution_count": 28,
   "id": "18e108a9",
   "metadata": {},
   "outputs": [
    {
     "name": "stdout",
     "output_type": "stream",
     "text": [
      "\u001b[0m\u001b[01;34m1.competition_trainset\u001b[0m/             examples.desktop\r\n",
      "\u001b[01;34m11819_darknet\u001b[0m/                      merge-BW.ipynb\r\n",
      "\u001b[01;34m16835_darknet\u001b[0m/                      merge-BW2.ipynb\r\n",
      "\u001b[01;34m2.testset\u001b[0m/                          merge.ipynb\r\n",
      "\u001b[01;34m3.backsub_images_100\u001b[0m/               names.txt\r\n",
      "\u001b[01;32mAnaconda3-2021.05-Linux-x86_64.sh\u001b[0m*  \u001b[01;32mopen_notebook.sh\u001b[0m*\r\n",
      "Makefile                            \u001b[01;32mtest.txt\u001b[0m*\r\n",
      "\u001b[01;34manaconda3\u001b[0m/                          train.txt\r\n",
      "\u001b[01;34mbaseline\u001b[0m/                           wanna_know_class_of_folder1.ipynb\r\n"
     ]
    }
   ],
   "source": [
    "ls"
   ]
  },
  {
   "cell_type": "code",
   "execution_count": null,
   "id": "c2a0fa48",
   "metadata": {},
   "outputs": [],
   "source": [
    "import os\n",
    "\n",
    "def target_path():\n",
    "    folder_list = sorted(os.listdir(\"/home/ai_competition6/1.competition_trainset/\"))\n",
    "    paths = [\"/home/ai_competition6/1.competition_trainset/\"+ folder  \\\n",
    "             for folder in folder_list if os.path.isdir(os.path.join(\"/home/ai_competition6/1.competition_trainset/\",folder))]\n",
    "    \n",
    "    res = [0 for i in range(60)]\n",
    "    print(res)\n",
    "    for sub_paths in paths:\n",
    "        txtjpgs = sorted(os.listdir(sub_paths+\"/\"))\n",
    "        txts = [txtjpgs[i] for i in range(len(txtjpgs)) if i % 2 == 1]\n",
    "        for t in txts:\n",
    "            f = open(sub_paths+\"/\"+t, \"r\")\n",
    "            lines = f.readlines()\n",
    "            for l in lines:\n",
    "                index = (int(l.split()[0]))\n",
    "                print(index, end=\" \")\n",
    "                #res[index] = res[index]+\n",
    "    return res\n",
    "\n",
    "    \n",
    "def print_list(l):\n",
    "    for f in l:\n",
    "        print(f)\n",
    "\n",
    "print(target_path())"
   ]
  },
  {
   "cell_type": "code",
   "execution_count": 37,
   "id": "372dc457",
   "metadata": {},
   "outputs": [
    {
     "name": "stdout",
     "output_type": "stream",
     "text": [
      "[0] : 3023\n",
      "[1] : 2516\n",
      "[2] : 2508\n",
      "[3] : 2670\n",
      "[4] : 2568\n",
      "[5] : 2900\n",
      "[6] : 3610\n",
      "[7] : 3704\n",
      "[8] : 3576\n",
      "[9] : 4403\n",
      "[10] : 4007\n",
      "[11] : 4526\n",
      "[12] : 4783\n",
      "[13] : 4551\n",
      "[14] : 3469\n",
      "[15] : 2447\n",
      "[16] : 2968\n",
      "[17] : 3791\n",
      "[18] : 3597\n",
      "[19] : 4649\n",
      "[20] : 2838\n",
      "[21] : 3532\n",
      "[22] : 3098\n",
      "[23] : 3612\n",
      "[24] : 3604\n",
      "[25] : 3799\n",
      "[26] : 3114\n",
      "[27] : 3826\n",
      "[28] : 3496\n",
      "[29] : 3063\n",
      "[30] : 3779\n",
      "[31] : 3758\n",
      "[32] : 3255\n",
      "[33] : 3285\n",
      "[34] : 3224\n",
      "[35] : 3140\n",
      "[36] : 3243\n",
      "[37] : 3768\n",
      "[38] : 3488\n",
      "[39] : 3502\n",
      "[40] : 2122\n",
      "[41] : 3307\n",
      "[42] : 2368\n",
      "[43] : 2587\n",
      "[44] : 2932\n",
      "[45] : 2730\n",
      "[46] : 2065\n",
      "[47] : 2572\n",
      "[48] : 3644\n",
      "[49] : 3104\n",
      "[50] : 3222\n",
      "[51] : 3227\n",
      "[52] : 3133\n",
      "[53] : 2655\n",
      "[54] : 2779\n",
      "[55] : 3420\n",
      "[56] : 3198\n",
      "[57] : 3279\n",
      "[58] : 3884\n",
      "[59] : 2742\n",
      "3294.3333333333335\n",
      "197660\n"
     ]
    }
   ],
   "source": [
    "temp = [3023, 2516, 2508, 2670, 2568, 2900, 3610, 3704, 3576, 4403, 4007, 4526, 4783, 4551, 3469, 2447, 2968, 3791, 3597, 4649, 2838, 3532, 3098, 3612, 3604, 3799, 3114, 3826, 3496, 3063, 3779, 3758, 3255, 3285, 3224, 3140, 3243, 3768, 3488, 3502, 2122, 3307, 2368, 2587, 2932, 2730, 2065, 2572, 3644, 3104, 3222, 3227, 3133, 2655, 2779, 3420, 3198, 3279, 3884, 2742]\n",
    "i=0\n",
    "for l in temp:\n",
    "    print(\"[\"+str(i)+\"] : \"+str(l))\n",
    "    i += 1\n",
    "    \n",
    "print(sum(temp)/60)\n",
    "print(sum(temp))"
   ]
  },
  {
   "cell_type": "code",
   "execution_count": null,
   "id": "ab4dd0f9",
   "metadata": {},
   "outputs": [],
   "source": []
  },
  {
   "cell_type": "code",
   "execution_count": null,
   "id": "30f6000b",
   "metadata": {},
   "outputs": [],
   "source": []
  }
 ],
 "metadata": {
  "kernelspec": {
   "display_name": "Python 3",
   "language": "python",
   "name": "python3"
  },
  "language_info": {
   "codemirror_mode": {
    "name": "ipython",
    "version": 3
   },
   "file_extension": ".py",
   "mimetype": "text/x-python",
   "name": "python",
   "nbconvert_exporter": "python",
   "pygments_lexer": "ipython3",
   "version": "3.8.8"
  }
 },
 "nbformat": 4,
 "nbformat_minor": 5
}
